{
 "cells": [
  {
   "cell_type": "markdown",
   "id": "5faf350e-d1b2-45e7-8773-70a6d0d5df34",
   "metadata": {},
   "source": [
    "# Cosine similarity\n",
    "\n",
    "Logic:\n",
    "A->Q->A' cosine similarity\n",
    "* A is an original answer\n",
    "* Q is a question sintatically generated from A\n",
    " * A' is an answer sintatically generated form a Q question\n",
    " * now compare original and generated answers and see how similar they are by calculation cosine"
   ]
  },
  {
   "cell_type": "code",
   "execution_count": 13,
   "id": "8bb34d21-d341-4c69-a90d-f10b88db200e",
   "metadata": {},
   "outputs": [],
   "source": [
    "import pandas as pd\n",
    "from tqdm.auto import tqdm"
   ]
  },
  {
   "cell_type": "code",
   "execution_count": 15,
   "id": "23c74207-4d46-4756-9d94-769b9cbda48b",
   "metadata": {},
   "outputs": [],
   "source": [
    "from sentence_transformers import SentenceTransformer\n",
    "\n",
    "model_name = 'multi-qa-MiniLM-L6-cos-v1'\n",
    "model = SentenceTransformer(model_name)"
   ]
  },
  {
   "cell_type": "code",
   "execution_count": 3,
   "id": "bda2672e-3666-471d-8175-09aa882796ff",
   "metadata": {},
   "outputs": [],
   "source": [
    "#load data\n",
    "url_results_gpt35 = \"https://raw.githubusercontent.com/DataTalksClub/llm-zoomcamp/refs/heads/main/03-evaluation/rag_evaluation/data/results-gpt35.csv\"\n",
    "url_results_gpt4o = \"https://raw.githubusercontent.com/DataTalksClub/llm-zoomcamp/refs/heads/main/03-evaluation/rag_evaluation/data/results-gpt4o.csv\"\n",
    "\n",
    "df_gpt35 =  pd.read_csv(url_results_gpt35)\n",
    "df_gpt4o =  pd.read_csv(url_results_gpt4o)"
   ]
  },
  {
   "cell_type": "code",
   "execution_count": 4,
   "id": "891ad80d-59fc-4365-9747-1371bbc8d85f",
   "metadata": {},
   "outputs": [],
   "source": [
    "results_gpt4o = df_gpt4o.to_dict(orient = \"records\")"
   ]
  },
  {
   "cell_type": "code",
   "execution_count": 6,
   "id": "2487b9de-6022-4d16-8b82-d92daf186579",
   "metadata": {},
   "outputs": [
    {
     "data": {
      "text/plain": [
       "{'answer_llm': 'The CONTEXT provided does not give specific instructions on how to sign up for the course. However, it does mention that you can access the course materials on the course page: [ML Zoomcamp](http://mlzoomcamp.com/). \\n\\nYou might want to start by visiting the course website and looking for further instructions there, as it likely has additional details on how to sign up or enroll in the course.',\n",
       " 'answer_orig': 'Machine Learning Zoomcamp FAQ\\nThe purpose of this document is to capture frequently asked technical questions.\\nWe did this for our data engineering course and it worked quite well. Check this document for inspiration on how to structure your questions and answers:\\nData Engineering Zoomcamp FAQ\\nIn the course GitHub repository there’s a link. Here it is: https://airtable.com/shryxwLd0COOEaqXo\\nwork',\n",
       " 'document': '0227b872',\n",
       " 'question': 'Where can I sign up for the course?',\n",
       " 'course': 'machine-learning-zoomcamp'}"
      ]
     },
     "execution_count": 6,
     "metadata": {},
     "output_type": "execute_result"
    }
   ],
   "source": [
    "record = results_gpt4o[0]\n",
    "record"
   ]
  },
  {
   "cell_type": "code",
   "execution_count": 8,
   "id": "5d829a14-3a4f-47fb-97fc-d94fb30ca9f7",
   "metadata": {},
   "outputs": [],
   "source": [
    "def compute_similarity(record):\n",
    "    answer_orig = record['answer_orig']\n",
    "    answer_llm = record['answer_llm']\n",
    "    \n",
    "    v_llm = model.encode(answer_llm)\n",
    "    v_orig = model.encode(answer_orig)\n",
    "    \n",
    "    return v_llm.dot(v_orig)"
   ]
  },
  {
   "cell_type": "code",
   "execution_count": 16,
   "id": "b1ca00b9-f35a-444d-b9f5-528d47628213",
   "metadata": {},
   "outputs": [
    {
     "data": {
      "application/vnd.jupyter.widget-view+json": {
       "model_id": "a52a5c24a35d4a0888e86949e79323ce",
       "version_major": 2,
       "version_minor": 0
      },
      "text/plain": [
       "  0%|          | 0/1830 [00:00<?, ?it/s]"
      ]
     },
     "metadata": {},
     "output_type": "display_data"
    }
   ],
   "source": [
    "similarity = []\n",
    "\n",
    "for record in tqdm(results_gpt4o):\n",
    "    sim = compute_similarity(record)\n",
    "    similarity.append(sim)"
   ]
  },
  {
   "cell_type": "code",
   "execution_count": 17,
   "id": "30334096-5e64-46ce-ad59-5e3cc379cecb",
   "metadata": {},
   "outputs": [
    {
     "data": {
      "text/plain": [
       "count    1830.000000\n",
       "mean        0.679129\n",
       "std         0.217995\n",
       "min        -0.153426\n",
       "25%         0.591460\n",
       "50%         0.734788\n",
       "75%         0.835390\n",
       "max         0.995339\n",
       "Name: cosine, dtype: float64"
      ]
     },
     "execution_count": 17,
     "metadata": {},
     "output_type": "execute_result"
    }
   ],
   "source": [
    "df_gpt4o['cosine'] = similarity\n",
    "df_gpt4o['cosine'].describe()"
   ]
  },
  {
   "cell_type": "code",
   "execution_count": 18,
   "id": "8ea516b0-168d-4237-a07f-e528c0ad3fbc",
   "metadata": {},
   "outputs": [],
   "source": [
    "#gtp-3.5\n",
    "\n",
    "results_gpt35 = df_gpt35.to_dict(orient = \"records\")"
   ]
  },
  {
   "cell_type": "code",
   "execution_count": 19,
   "id": "b7a8fcb3-fca4-46ce-875d-e42c65e04779",
   "metadata": {},
   "outputs": [
    {
     "data": {
      "application/vnd.jupyter.widget-view+json": {
       "model_id": "e22695b4688e40648cc74f2e018d0221",
       "version_major": 2,
       "version_minor": 0
      },
      "text/plain": [
       "  0%|          | 0/1830 [00:00<?, ?it/s]"
      ]
     },
     "metadata": {},
     "output_type": "display_data"
    }
   ],
   "source": [
    "similarity_35 = []\n",
    "\n",
    "for record in tqdm(results_gpt35):\n",
    "    sim = compute_similarity(record)\n",
    "    similarity_35.append(sim)"
   ]
  },
  {
   "cell_type": "code",
   "execution_count": 20,
   "id": "8a1fc21f-f21b-4f1d-803c-ca489f0e226f",
   "metadata": {},
   "outputs": [
    {
     "data": {
      "text/plain": [
       "count    1830.000000\n",
       "mean        0.657599\n",
       "std         0.226062\n",
       "min        -0.168921\n",
       "25%         0.546505\n",
       "50%         0.714783\n",
       "75%         0.817262\n",
       "max         1.000000\n",
       "Name: cosine, dtype: float64"
      ]
     },
     "execution_count": 20,
     "metadata": {},
     "output_type": "execute_result"
    }
   ],
   "source": [
    "df_gpt35['cosine'] = similarity_35\n",
    "df_gpt35['cosine'].describe()"
   ]
  },
  {
   "cell_type": "code",
   "execution_count": 22,
   "id": "1434304d-0548-4227-a13a-948bbc8b4865",
   "metadata": {},
   "outputs": [],
   "source": [
    "import matplotlib.pyplot as plt\n",
    "import seaborn as sns"
   ]
  },
  {
   "cell_type": "code",
   "execution_count": 24,
   "id": "cfdff445-74a7-42ed-ade0-40bd97287f2b",
   "metadata": {},
   "outputs": [
    {
     "data": {
      "image/png": "[encoded data removed]",
      "text/plain": [
       "<Figure size 640x480 with 1 Axes>"
      ]
     },
     "metadata": {},
     "output_type": "display_data"
    }
   ],
   "source": [
    "sns.histplot(df_gpt35['cosine'], label = '3.5')\n",
    "sns.histplot(df_gpt4o['cosine'], label = '4o')\n",
    "plt.legend()\n",
    "plt.show()"
   ]
  },
  {
   "cell_type": "code",
   "execution_count": null,
   "id": "f88948c1-1acd-4a53-b364-878f438fd02d",
   "metadata": {},
   "outputs": [],
   "source": []
  },
  {
   "cell_type": "markdown",
   "id": "9d1bba27-638e-4ea5-8b56-247fceb60bee",
   "metadata": {},
   "source": [
    "# LLM-as-a-Judge"
   ]
  },
  {
   "cell_type": "code",
   "execution_count": 25,
   "id": "0f20a426-7dfc-4861-901c-29adfe0f51ba",
   "metadata": {},
   "outputs": [],
   "source": [
    "prompt1_template = \"\"\"\n",
    "You are an expert evaluator for a Retrieval-Augmented Generation (RAG) system.\n",
    "Your task is to analyze the relevance of the generated answer compared to the original answer provided.\n",
    "Based on the relevance and similarity of the generated answer to the original answer, you will classify\n",
    "it as \"NON_RELEVANT\", \"PARTLY_RELEVANT\", or \"RELEVANT\".\n",
    "\n",
    "Here is the data for evaluation:\n",
    "\n",
    "Original Answer: {answer_orig}\n",
    "Generated Question: {question}\n",
    "Generated Answer: {answer_llm}\n",
    "\n",
    "Please analyze the content and context of the generated answer in relation to the original\n",
    "answer and provide your evaluation in parsable JSON without using code blocks:\n",
    "\n",
    "{{\n",
    "  \"Relevance\": \"NON_RELEVANT\" | \"PARTLY_RELEVANT\" | \"RELEVANT\",\n",
    "  \"Explanation\": \"[Provide a brief explanation for your evaluation]\"\n",
    "}}\n",
    "\"\"\".strip()\n",
    "\n",
    "prompt2_template = \"\"\"\n",
    "You are an expert evaluator for a Retrieval-Augmented Generation (RAG) system.\n",
    "Your task is to analyze the relevance of the generated answer to the given question.\n",
    "Based on the relevance of the generated answer, you will classify it\n",
    "as \"NON_RELEVANT\", \"PARTLY_RELEVANT\", or \"RELEVANT\".\n",
    "\n",
    "Here is the data for evaluation:\n",
    "\n",
    "Question: {question}\n",
    "Generated Answer: {answer_llm}\n",
    "\n",
    "Please analyze the content and context of the generated answer in relation to the question\n",
    "and provide your evaluation in parsable JSON without using code blocks:\n",
    "\n",
    "{{\n",
    "  \"Relevance\": \"NON_RELEVANT\" | \"PARTLY_RELEVANT\" | \"RELEVANT\",\n",
    "  \"Explanation\": \"[Provide a brief explanation for your evaluation]\"\n",
    "}}\n",
    "\"\"\".strip()"
   ]
  },
  {
   "cell_type": "code",
   "execution_count": 26,
   "id": "92570afd-4a95-4014-acbd-96acc6ea7069",
   "metadata": {},
   "outputs": [
    {
     "data": {
      "text/html": [
       "<div>\n",
       "<style scoped>\n",
       "    .dataframe tbody tr th:only-of-type {\n",
       "        vertical-align: middle;\n",
       "    }\n",
       "\n",
       "    .dataframe tbody tr th {\n",
       "        vertical-align: top;\n",
       "    }\n",
       "\n",
       "    .dataframe thead th {\n",
       "        text-align: right;\n",
       "    }\n",
       "</style>\n",
       "<table border=\"1\" class=\"dataframe\">\n",
       "  <thead>\n",
       "    <tr style=\"text-align: right;\">\n",
       "      <th></th>\n",
       "      <th>answer_llm</th>\n",
       "      <th>answer_orig</th>\n",
       "      <th>document</th>\n",
       "      <th>question</th>\n",
       "      <th>course</th>\n",
       "      <th>cosine</th>\n",
       "    </tr>\n",
       "  </thead>\n",
       "  <tbody>\n",
       "    <tr>\n",
       "      <th>726</th>\n",
       "      <td>The syntax for using `precision_recall_fscore_...</td>\n",
       "      <td>Scikit-learn offers another way: precision_rec...</td>\n",
       "      <td>403bbdd8</td>\n",
       "      <td>What is the syntax for using precision_recall_...</td>\n",
       "      <td>machine-learning-zoomcamp</td>\n",
       "      <td>0.881816</td>\n",
       "    </tr>\n",
       "    <tr>\n",
       "      <th>1662</th>\n",
       "      <td>To avoid pickle errors when using waitress, yo...</td>\n",
       "      <td>When running a docker container with waitress ...</td>\n",
       "      <td>236864c2</td>\n",
       "      <td>How should I modify my scripts to avoid pickle...</td>\n",
       "      <td>machine-learning-zoomcamp</td>\n",
       "      <td>0.742705</td>\n",
       "    </tr>\n",
       "    <tr>\n",
       "      <th>834</th>\n",
       "      <td>To launch a container image in interactive mod...</td>\n",
       "      <td>Launch the container image in interactive mode...</td>\n",
       "      <td>63a81b57</td>\n",
       "      <td>What command launches a container image in int...</td>\n",
       "      <td>machine-learning-zoomcamp</td>\n",
       "      <td>0.841398</td>\n",
       "    </tr>\n",
       "    <tr>\n",
       "      <th>1234</th>\n",
       "      <td>Yes, you can make a pull request for homework ...</td>\n",
       "      <td>Pytorch is also a deep learning framework that...</td>\n",
       "      <td>c4ff26e5</td>\n",
       "      <td>Can we make a pull request for homework soluti...</td>\n",
       "      <td>machine-learning-zoomcamp</td>\n",
       "      <td>0.701560</td>\n",
       "    </tr>\n",
       "    <tr>\n",
       "      <th>1323</th>\n",
       "      <td>The pip version error in this week's serverles...</td>\n",
       "      <td>When running docker build -t dino-dragon-model...</td>\n",
       "      <td>42c09143</td>\n",
       "      <td>What might be the cause of the pip version err...</td>\n",
       "      <td>machine-learning-zoomcamp</td>\n",
       "      <td>0.303531</td>\n",
       "    </tr>\n",
       "    <tr>\n",
       "      <th>...</th>\n",
       "      <td>...</td>\n",
       "      <td>...</td>\n",
       "      <td>...</td>\n",
       "      <td>...</td>\n",
       "      <td>...</td>\n",
       "      <td>...</td>\n",
       "    </tr>\n",
       "    <tr>\n",
       "      <th>161</th>\n",
       "      <td>If GitHub no longer supports password authenti...</td>\n",
       "      <td>I had a problem when I tried to push my code f...</td>\n",
       "      <td>7b907071</td>\n",
       "      <td>What should I do if password authentication fo...</td>\n",
       "      <td>machine-learning-zoomcamp</td>\n",
       "      <td>0.820745</td>\n",
       "    </tr>\n",
       "    <tr>\n",
       "      <th>60</th>\n",
       "      <td>You can find instructions to install TensorFlo...</td>\n",
       "      <td>Here is an article that worked for me: https:/...</td>\n",
       "      <td>34b7fd35</td>\n",
       "      <td>Where can I find instructions to install Tenso...</td>\n",
       "      <td>machine-learning-zoomcamp</td>\n",
       "      <td>0.452779</td>\n",
       "    </tr>\n",
       "    <tr>\n",
       "      <th>655</th>\n",
       "      <td>In the context of calculating the AUC score us...</td>\n",
       "      <td>When calculating the ROC AUC score using sklea...</td>\n",
       "      <td>7d40f6f6</td>\n",
       "      <td>What is the role of y_true in calculating the ...</td>\n",
       "      <td>machine-learning-zoomcamp</td>\n",
       "      <td>0.806522</td>\n",
       "    </tr>\n",
       "    <tr>\n",
       "      <th>1386</th>\n",
       "      <td>To solve the issue of Jupyter notebook not rec...</td>\n",
       "      <td>On vscode running jupyter notebook. After I ‘p...</td>\n",
       "      <td>ea2e7458</td>\n",
       "      <td>How did Quinn Avila solve the issue of Jupyter...</td>\n",
       "      <td>machine-learning-zoomcamp</td>\n",
       "      <td>0.838745</td>\n",
       "    </tr>\n",
       "    <tr>\n",
       "      <th>446</th>\n",
       "      <td>In the homework, the modification made to the ...</td>\n",
       "      <td>Solution: Mutual Information score calculates ...</td>\n",
       "      <td>0c7715a1</td>\n",
       "      <td>What modification was made to the median_house...</td>\n",
       "      <td>machine-learning-zoomcamp</td>\n",
       "      <td>0.733862</td>\n",
       "    </tr>\n",
       "  </tbody>\n",
       "</table>\n",
       "<p>150 rows × 6 columns</p>\n",
       "</div>"
      ],
      "text/plain": [
       "                                             answer_llm  \\\n",
       "726   The syntax for using `precision_recall_fscore_...   \n",
       "1662  To avoid pickle errors when using waitress, yo...   \n",
       "834   To launch a container image in interactive mod...   \n",
       "1234  Yes, you can make a pull request for homework ...   \n",
       "1323  The pip version error in this week's serverles...   \n",
       "...                                                 ...   \n",
       "161   If GitHub no longer supports password authenti...   \n",
       "60    You can find instructions to install TensorFlo...   \n",
       "655   In the context of calculating the AUC score us...   \n",
       "1386  To solve the issue of Jupyter notebook not rec...   \n",
       "446   In the homework, the modification made to the ...   \n",
       "\n",
       "                                            answer_orig  document  \\\n",
       "726   Scikit-learn offers another way: precision_rec...  403bbdd8   \n",
       "1662  When running a docker container with waitress ...  236864c2   \n",
       "834   Launch the container image in interactive mode...  63a81b57   \n",
       "1234  Pytorch is also a deep learning framework that...  c4ff26e5   \n",
       "1323  When running docker build -t dino-dragon-model...  42c09143   \n",
       "...                                                 ...       ...   \n",
       "161   I had a problem when I tried to push my code f...  7b907071   \n",
       "60    Here is an article that worked for me: https:/...  34b7fd35   \n",
       "655   When calculating the ROC AUC score using sklea...  7d40f6f6   \n",
       "1386  On vscode running jupyter notebook. After I ‘p...  ea2e7458   \n",
       "446   Solution: Mutual Information score calculates ...  0c7715a1   \n",
       "\n",
       "                                               question  \\\n",
       "726   What is the syntax for using precision_recall_...   \n",
       "1662  How should I modify my scripts to avoid pickle...   \n",
       "834   What command launches a container image in int...   \n",
       "1234  Can we make a pull request for homework soluti...   \n",
       "1323  What might be the cause of the pip version err...   \n",
       "...                                                 ...   \n",
       "161   What should I do if password authentication fo...   \n",
       "60    Where can I find instructions to install Tenso...   \n",
       "655   What is the role of y_true in calculating the ...   \n",
       "1386  How did Quinn Avila solve the issue of Jupyter...   \n",
       "446   What modification was made to the median_house...   \n",
       "\n",
       "                         course    cosine  \n",
       "726   machine-learning-zoomcamp  0.881816  \n",
       "1662  machine-learning-zoomcamp  0.742705  \n",
       "834   machine-learning-zoomcamp  0.841398  \n",
       "1234  machine-learning-zoomcamp  0.701560  \n",
       "1323  machine-learning-zoomcamp  0.303531  \n",
       "...                         ...       ...  \n",
       "161   machine-learning-zoomcamp  0.820745  \n",
       "60    machine-learning-zoomcamp  0.452779  \n",
       "655   machine-learning-zoomcamp  0.806522  \n",
       "1386  machine-learning-zoomcamp  0.838745  \n",
       "446   machine-learning-zoomcamp  0.733862  \n",
       "\n",
       "[150 rows x 6 columns]"
      ]
     },
     "execution_count": 26,
     "metadata": {},
     "output_type": "execute_result"
    }
   ],
   "source": [
    "df_sample = df_gpt4o.sample(n=150, random_state=1)\n",
    "df_sample"
   ]
  },
  {
   "cell_type": "code",
   "execution_count": 28,
   "id": "caa6fd75-f687-4be1-9b41-d5add91d05c2",
   "metadata": {},
   "outputs": [],
   "source": [
    "samples = df_sample.to_dict(orient = 'records')"
   ]
  },
  {
   "cell_type": "code",
   "execution_count": 29,
   "id": "afebe8df-3d18-4bb6-b181-ab3a6ca7eb4a",
   "metadata": {},
   "outputs": [
    {
     "data": {
      "text/plain": [
       "{'answer_llm': 'The syntax for using `precision_recall_fscore_support` in Python is as follows:\\n\\n```python\\nfrom sklearn.metrics import precision_recall_fscore_support\\n\\nprecision, recall, fscore, support = precision_recall_fscore_support(y_val, y_val_pred, zero_division=0)\\n```\\n\\nHere, `y_val` represents the true labels, `y_val_pred` represents the predicted labels, and `zero_division=0` specifies how to handle divisions by zero. This will return the precision, recall, F1 score, and support for each class.',\n",
       " 'answer_orig': 'Scikit-learn offers another way: precision_recall_fscore_support\\nExample:\\nfrom sklearn.metrics import precision_recall_fscore_support\\nprecision, recall, fscore, support = precision_recall_fscore_support(y_val, y_val_pred, zero_division=0)\\n(Gopakumar Gopinathan)',\n",
       " 'document': '403bbdd8',\n",
       " 'question': 'What is the syntax for using precision_recall_fscore_support in Python?',\n",
       " 'course': 'machine-learning-zoomcamp',\n",
       " 'cosine': 0.8818159103393555}"
      ]
     },
     "execution_count": 29,
     "metadata": {},
     "output_type": "execute_result"
    }
   ],
   "source": [
    "record = samples[0]\n",
    "record"
   ]
  },
  {
   "cell_type": "code",
   "execution_count": 30,
   "id": "46d8cf12-ba34-4756-b3b9-c42c1598d417",
   "metadata": {},
   "outputs": [
    {
     "name": "stdout",
     "output_type": "stream",
     "text": [
      "You are an expert evaluator for a Retrieval-Augmented Generation (RAG) system.\n",
      "Your task is to analyze the relevance of the generated answer compared to the original answer provided.\n",
      "Based on the relevance and similarity of the generated answer to the original answer, you will classify\n",
      "it as \"NON_RELEVANT\", \"PARTLY_RELEVANT\", or \"RELEVANT\".\n",
      "\n",
      "Here is the data for evaluation:\n",
      "\n",
      "Original Answer: Scikit-learn offers another way: precision_recall_fscore_support\n",
      "Example:\n",
      "from sklearn.metrics import precision_recall_fscore_support\n",
      "precision, recall, fscore, support = precision_recall_fscore_support(y_val, y_val_pred, zero_division=0)\n",
      "(Gopakumar Gopinathan)\n",
      "Generated Question: What is the syntax for using precision_recall_fscore_support in Python?\n",
      "Generated Answer: The syntax for using `precision_recall_fscore_support` in Python is as follows:\n",
      "\n",
      "```python\n",
      "from sklearn.metrics import precision_recall_fscore_support\n",
      "\n",
      "precision, recall, fscore, support = precision_recall_fscore_support(y_val, y_val_pred, zero_division=0)\n",
      "```\n",
      "\n",
      "Here, `y_val` represents the true labels, `y_val_pred` represents the predicted labels, and `zero_division=0` specifies how to handle divisions by zero. This will return the precision, recall, F1 score, and support for each class.\n",
      "\n",
      "Please analyze the content and context of the generated answer in relation to the original\n",
      "answer and provide your evaluation in parsable JSON without using code blocks:\n",
      "\n",
      "{\n",
      "  \"Relevance\": \"NON_RELEVANT\" | \"PARTLY_RELEVANT\" | \"RELEVANT\",\n",
      "  \"Explanation\": \"[Provide a brief explanation for your evaluation]\"\n",
      "}\n"
     ]
    }
   ],
   "source": [
    "prompt = prompt1_template.format(**record)\n",
    "print(prompt)"
   ]
  },
  {
   "cell_type": "code",
   "execution_count": null,
   "id": "554e56a7-e383-4843-8d03-9a3908e5f861",
   "metadata": {},
   "outputs": [],
   "source": [
    "#answer = llm(prompt, model = XXX)"
   ]
  }
 ],
 "metadata": {
  "kernelspec": {
   "display_name": "Python 3 (ipykernel)",
   "language": "python",
   "name": "python3"
  },
  "language_info": {
   "codemirror_mode": {
    "name": "ipython",
    "version": 3
   },
   "file_extension": ".py",
   "mimetype": "text/x-python",
   "name": "python",
   "nbconvert_exporter": "python",
   "pygments_lexer": "ipython3",
   "version": "3.12.1"
  }
 },
 "nbformat": 4,
 "nbformat_minor": 5
}
