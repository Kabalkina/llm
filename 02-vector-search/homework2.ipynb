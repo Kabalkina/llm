{
 "cells": [
  {
   "cell_type": "code",
   "execution_count": 1,
   "id": "dc442723-4202-4062-84de-6c236c8ea0b2",
   "metadata": {},
   "outputs": [],
   "source": [
    "from fastembed import TextEmbedding"
   ]
  },
  {
   "cell_type": "code",
   "execution_count": 2,
   "id": "75d52b66-abf2-4789-bd3e-e4458fcd5da1",
   "metadata": {},
   "outputs": [],
   "source": [
    "query = 'I just discovered the course. Can I join now?'"
   ]
  },
  {
   "cell_type": "code",
   "execution_count": 3,
   "id": "4f47f749-9f26-45b1-96dc-7062faaa5a18",
   "metadata": {},
   "outputs": [],
   "source": [
    "from qdrant_client import QdrantClient, models"
   ]
  },
  {
   "cell_type": "code",
   "execution_count": 4,
   "id": "783466f6-29f0-43de-93ef-99d33e15448b",
   "metadata": {},
   "outputs": [],
   "source": [
    "client = QdrantClient(\"http://localhost:6333\") #connecting to local Qdrant instance"
   ]
  },
  {
   "cell_type": "code",
   "execution_count": 5,
   "id": "6142d4e9-a419-4fc4-a1e9-69df51844d83",
   "metadata": {},
   "outputs": [],
   "source": [
    "import json\n",
    "\n",
    "EMBEDDING_DIMENSIONALITY = 512\n",
    "model_handle = \"jinaai/jina-embeddings-v2-small-en\""
   ]
  },
  {
   "cell_type": "code",
   "execution_count": 8,
   "id": "85ccae70-0316-4596-8952-df7be0014d11",
   "metadata": {},
   "outputs": [],
   "source": [
    "embedder = TextEmbedding(model_name=model_handle)"
   ]
  },
  {
   "cell_type": "code",
   "execution_count": 19,
   "id": "f932a6fb-6e07-44a3-a30b-fcc821bde83f",
   "metadata": {},
   "outputs": [],
   "source": [
    "q, = list(embedder.embed(query))"
   ]
  },
  {
   "cell_type": "code",
   "execution_count": 11,
   "id": "7c01225b-aeae-48b8-a6b0-50338bc5fb9d",
   "metadata": {},
   "outputs": [
    {
     "data": {
      "text/plain": [
       "np.float64(-0.11726373885183883)"
      ]
     },
     "execution_count": 11,
     "metadata": {},
     "output_type": "execute_result"
    }
   ],
   "source": [
    "q.min()"
   ]
  },
  {
   "cell_type": "code",
   "execution_count": 12,
   "id": "1d181707-9411-4ce1-b912-0f37ae67272d",
   "metadata": {},
   "outputs": [
    {
     "data": {
      "text/plain": [
       "np.float64(1.0)"
      ]
     },
     "execution_count": 12,
     "metadata": {},
     "output_type": "execute_result"
    }
   ],
   "source": [
    "import numpy as np\n",
    "np.linalg.norm(q)"
   ]
  },
  {
   "cell_type": "code",
   "execution_count": 22,
   "id": "6bcfd506-58dd-448d-8676-4b84233f57bb",
   "metadata": {},
   "outputs": [
    {
     "data": {
      "text/plain": [
       "np.float64(1.0000000000000002)"
      ]
     },
     "execution_count": 22,
     "metadata": {},
     "output_type": "execute_result"
    }
   ],
   "source": [
    "q.dot(q)"
   ]
  },
  {
   "cell_type": "code",
   "execution_count": 14,
   "id": "009938df-8cf2-47a4-8ef3-b0f32e53b0b0",
   "metadata": {},
   "outputs": [],
   "source": [
    "doc = 'Can I still join the course after the start date?'"
   ]
  },
  {
   "cell_type": "code",
   "execution_count": 30,
   "id": "b5c289c6-e90a-4348-8f6f-52c489231f35",
   "metadata": {},
   "outputs": [],
   "source": [
    "q2, = list(embedder.embed(doc))"
   ]
  },
  {
   "cell_type": "code",
   "execution_count": 31,
   "id": "82f7dfdf-a9a3-403b-b6c7-01d3903505a3",
   "metadata": {},
   "outputs": [
    {
     "data": {
      "text/plain": [
       "np.float64(0.9008528895674548)"
      ]
     },
     "execution_count": 31,
     "metadata": {},
     "output_type": "execute_result"
    }
   ],
   "source": [
    "q.dot(q2)"
   ]
  },
  {
   "cell_type": "code",
   "execution_count": 32,
   "id": "41557b9f-ddc2-44c2-9582-053cdcd0ad4d",
   "metadata": {},
   "outputs": [],
   "source": [
    "#Q3. Ranking by cosine"
   ]
  },
  {
   "cell_type": "code",
   "execution_count": 58,
   "id": "36736555-6c52-4198-8f57-3c797e5cd9b5",
   "metadata": {},
   "outputs": [],
   "source": [
    "documents = [{'text': \"Yes, even if you don't register, you're still eligible to submit the homeworks.\\nBe aware, however, that there will be deadlines for turning in the final projects. So don't leave everything for the last minute.\",\n",
    "  'section': 'General course-related questions',\n",
    "  'question': 'Course - Can I still join the course after the start date?',\n",
    "  'course': 'data-engineering-zoomcamp'},\n",
    " {'text': 'Yes, we will keep all the materials after the course finishes, so you can follow the course at your own pace after it finishes.\\nYou can also continue looking at the homeworks and continue preparing for the next cohort. I guess you can also start working on your final capstone project.',\n",
    "  'section': 'General course-related questions',\n",
    "  'question': 'Course - Can I follow the course after it finishes?',\n",
    "  'course': 'data-engineering-zoomcamp'},\n",
    " {'text': \"The purpose of this document is to capture frequently asked technical questions\\nThe exact day and hour of the course will be 15th Jan 2024 at 17h00. The course will start with the first  “Office Hours'' live.1\\nSubscribe to course public Google Calendar (it works from Desktop only).\\nRegister before the course starts using this link.\\nJoin the course Telegram channel with announcements.\\nDon’t forget to register in DataTalks.Club's Slack and join the channel.\",\n",
    "  'section': 'General course-related questions',\n",
    "  'question': 'Course - When will the course start?',\n",
    "  'course': 'data-engineering-zoomcamp'},\n",
    " {'text': 'You can start by installing and setting up all the dependencies and requirements:\\nGoogle cloud account\\nGoogle Cloud SDK\\nPython 3 (installed with Anaconda)\\nTerraform\\nGit\\nLook over the prerequisites and syllabus to see if you are comfortable with these subjects.',\n",
    "  'section': 'General course-related questions',\n",
    "  'question': 'Course - What can I do before the course starts?',\n",
    "  'course': 'data-engineering-zoomcamp'},\n",
    " {'text': 'Star the repo! Share it with friends if you find it useful ❣️\\nCreate a PR if you see you can improve the text or the structure of the repository.',\n",
    "  'section': 'General course-related questions',\n",
    "  'question': 'How can we contribute to the course?',\n",
    "  'course': 'data-engineering-zoomcamp'}]"
   ]
  },
  {
   "cell_type": "code",
   "execution_count": 59,
   "id": "a2299080-716b-4ff1-ad90-486a45747b0e",
   "metadata": {},
   "outputs": [],
   "source": [
    "\n",
    "#solution 1\n",
    "import pandas as pd\n",
    "\n",
    "df = pd.DataFrame(documents)\n",
    "V_text = list(embedder.embed(df.text))\n",
    "V_text = np.array(V_text)"
   ]
  },
  {
   "cell_type": "code",
   "execution_count": 63,
   "id": "e891f7f8-c6c5-4b7d-af8f-96f1f5484c8c",
   "metadata": {},
   "outputs": [],
   "source": [
    "# Compute the embeddings for the text field, and compute the cosine between the query vector and all the documents.\n",
    "#solution 2\n",
    "V = []\n",
    "\n",
    "for doc in documents:\n",
    "    vector_input =  doc['question'] + ' ' + doc['text']\n",
    "    q, = list(embedder.embed(vector_input))\n",
    "    V.append(q)"
   ]
  },
  {
   "cell_type": "code",
   "execution_count": 64,
   "id": "ce7c05e3-f49b-49d2-89bb-e8997b87c0e1",
   "metadata": {},
   "outputs": [
    {
     "data": {
      "text/plain": [
       "array([0.76691052, 0.81023566, 0.80029351, 0.79552661, 1.        ])"
      ]
     },
     "execution_count": 64,
     "metadata": {},
     "output_type": "execute_result"
    }
   ],
   "source": [
    "np.array(V).dot(q)"
   ]
  },
  {
   "cell_type": "code",
   "execution_count": 62,
   "id": "a0886c18-5373-4b65-8574-7160983356e6",
   "metadata": {},
   "outputs": [
    {
     "data": {
      "text/plain": [
       "np.int64(4)"
      ]
     },
     "execution_count": 62,
     "metadata": {},
     "output_type": "execute_result"
    }
   ],
   "source": [
    "V_text = list(embedder.embed(df.question + ' ' + df.text))\n",
    "V_text = np.array(V_text)\n",
    "\n",
    "similarity = V_text.dot(q)\n",
    "similarity.argmax()"
   ]
  },
  {
   "cell_type": "code",
   "execution_count": null,
   "id": "0c223828-b1d9-4d82-a14c-de24ed0d27fb",
   "metadata": {},
   "outputs": [],
   "source": [
    "# Q5. Selecting the embedding model"
   ]
  }
 ],
 "metadata": {
  "kernelspec": {
   "display_name": "Python 3 (ipykernel)",
   "language": "python",
   "name": "python3"
  },
  "language_info": {
   "codemirror_mode": {
    "name": "ipython",
    "version": 3
   },
   "file_extension": ".py",
   "mimetype": "text/x-python",
   "name": "python",
   "nbconvert_exporter": "python",
   "pygments_lexer": "ipython3",
   "version": "3.12.1"
  }
 },
 "nbformat": 4,
 "nbformat_minor": 5
}
