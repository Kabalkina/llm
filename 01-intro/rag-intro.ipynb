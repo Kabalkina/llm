{
 "cells": [
  {
   "cell_type": "code",
   "execution_count": null,
   "id": "82a6adca",
   "metadata": {},
   "outputs": [
    {
     "name": "stdout",
     "output_type": "stream",
     "text": [
      "Collecting minsearch\n",
      "  Downloading minsearch-0.0.4-py3-none-any.whl.metadata (8.1 kB)\n",
      "Requirement already satisfied: numpy in /home/codespace/.local/lib/python3.12/site-packages (from minsearch) (2.3.1)\n",
      "Requirement already satisfied: pandas in /home/codespace/.local/lib/python3.12/site-packages (from minsearch) (2.3.1)\n",
      "Requirement already satisfied: scikit-learn in /home/codespace/.local/lib/python3.12/site-packages (from minsearch) (1.7.0)\n",
      "Requirement already satisfied: python-dateutil>=2.8.2 in /home/codespace/.local/lib/python3.12/site-packages (from pandas->minsearch) (2.9.0.post0)\n",
      "Requirement already satisfied: pytz>=2020.1 in /home/codespace/.local/lib/python3.12/site-packages (from pandas->minsearch) (2025.2)\n",
      "Requirement already satisfied: tzdata>=2022.7 in /home/codespace/.local/lib/python3.12/site-packages (from pandas->minsearch) (2025.2)\n",
      "Requirement already satisfied: six>=1.5 in /home/codespace/.local/lib/python3.12/site-packages (from python-dateutil>=2.8.2->pandas->minsearch) (1.17.0)\n",
      "Requirement already satisfied: scipy>=1.8.0 in /home/codespace/.local/lib/python3.12/site-packages (from scikit-learn->minsearch) (1.16.0)\n",
      "Requirement already satisfied: joblib>=1.2.0 in /home/codespace/.local/lib/python3.12/site-packages (from scikit-learn->minsearch) (1.5.1)\n",
      "Requirement already satisfied: threadpoolctl>=3.1.0 in /home/codespace/.local/lib/python3.12/site-packages (from scikit-learn->minsearch) (3.6.0)\n",
      "Downloading minsearch-0.0.4-py3-none-any.whl (11 kB)\n",
      "Installing collected packages: minsearch\n",
      "Successfully installed minsearch-0.0.4\n",
      "\n",
      "\u001b[1m[\u001b[0m\u001b[34;49mnotice\u001b[0m\u001b[1;39;49m]\u001b[0m\u001b[39;49m A new release of pip is available: \u001b[0m\u001b[31;49m25.1.1\u001b[0m\u001b[39;49m -> \u001b[0m\u001b[32;49m25.2\u001b[0m\n",
      "\u001b[1m[\u001b[0m\u001b[34;49mnotice\u001b[0m\u001b[1;39;49m]\u001b[0m\u001b[39;49m To update, run: \u001b[0m\u001b[32;49mpython3 -m pip install --upgrade pip\u001b[0m\n"
     ]
    }
   ],
   "source": [
    "!pip install minsearch"
   ]
  },
  {
   "cell_type": "code",
   "execution_count": null,
   "id": "e0a213c2",
   "metadata": {},
   "outputs": [],
   "source": [
    "import json"
   ]
  },
  {
   "cell_type": "code",
   "execution_count": null,
   "id": "de713f55",
   "metadata": {},
   "outputs": [],
   "source": [
    "import minsearch"
   ]
  },
  {
   "cell_type": "code",
   "execution_count": null,
   "id": "15a7ec45",
   "metadata": {},
   "outputs": [],
   "source": [
    "with open('documents.json', 'rt') as f_in:\n",
    "    docs_raw = json.load(f_in)"
   ]
  },
  {
   "cell_type": "code",
   "execution_count": null,
   "id": "2c0e09e2",
   "metadata": {},
   "outputs": [],
   "source": [
    "documents = []\n",
    "\n",
    "for course_dict in docs_raw:\n",
    "    for doc in course_dict['documents']:\n",
    "        doc['course'] = course_dict['course']\n",
    "        documents.append(doc)"
   ]
  },
  {
   "cell_type": "code",
   "execution_count": null,
   "id": "082aef18",
   "metadata": {},
   "outputs": [
    {
     "data": {
      "text/plain": [
       "{'text': \"The purpose of this document is to capture frequently asked technical questions\\nThe exact day and hour of the course will be 15th Jan 2024 at 17h00. The course will start with the first  “Office Hours'' live.1\\nSubscribe to course public Google Calendar (it works from Desktop only).\\nRegister before the course starts using this link.\\nJoin the course Telegram channel with announcements.\\nDon’t forget to register in DataTalks.Club's Slack and join the channel.\",\n",
       " 'section': 'General course-related questions',\n",
       " 'question': 'Course - When will the course start?',\n",
       " 'course': 'data-engineering-zoomcamp'}"
      ]
     },
     "execution_count": 9,
     "metadata": {},
     "output_type": "execute_result"
    }
   ],
   "source": [
    "documents[0]"
   ]
  },
  {
   "cell_type": "code",
   "execution_count": null,
   "id": "4569c982",
   "metadata": {},
   "outputs": [],
   "source": [
    "index = minsearch.Index(\n",
    "    text_fields=[\"question\", \"text\", \"section\"],\n",
    "    keyword_fields=[\"course\"]\n",
    ")"
   ]
  },
  {
   "cell_type": "code",
   "execution_count": null,
   "id": "1f267546",
   "metadata": {},
   "outputs": [],
   "source": [
    "q = 'the course has already started, can I still enroll?'"
   ]
  },
  {
   "cell_type": "code",
   "execution_count": null,
   "id": "1361827e",
   "metadata": {},
   "outputs": [
    {
     "data": {
      "text/plain": [
       "<minsearch.minsearch.Index at 0x79d13fbf13d0>"
      ]
     },
     "execution_count": 12,
     "metadata": {},
     "output_type": "execute_result"
    }
   ],
   "source": [
    "index.fit(documents)"
   ]
  },
  {
   "cell_type": "code",
   "execution_count": null,
   "id": "2586d768",
   "metadata": {},
   "outputs": [],
   "source": []
  },
  {
   "cell_type": "code",
   "execution_count": null,
   "id": "d9a978ae",
   "metadata": {},
   "outputs": [],
   "source": [
    "#from openai import OpenAI"
   ]
  },
  {
   "cell_type": "code",
   "execution_count": null,
   "id": "d7c20e17",
   "metadata": {},
   "outputs": [],
   "source": [
    "#client = OpenAI()"
   ]
  },
  {
   "cell_type": "code",
   "execution_count": null,
   "id": "aca176f3-08fb-4e2e-acb1-20056be4d477",
   "metadata": {},
   "outputs": [],
   "source": [
    "from groq import Groq"
   ]
  },
  {
   "cell_type": "code",
   "execution_count": null,
   "id": "39b53c19-37c1-4ccc-a7e2-7e1b52f01d44",
   "metadata": {},
   "outputs": [],
   "source": [
    "client = Groq() "
   ]
  },
  {
   "cell_type": "code",
   "execution_count": null,
   "id": "c86058b4",
   "metadata": {},
   "outputs": [
    {
     "data": {
      "text/plain": [
       "'<think>\\nOkay, the user is asking if they can still enroll in a course that\\'s already started. Let me think about how to approach this.\\n\\nFirst, I need to consider different possible scenarios. Courses can vary a lot in terms of structure and policies. For example, some courses might have strict deadlines for enrollment, while others are more flexible. Maybe the user is in a university setting versus an online course like Coursera or Udemy.\\n\\nI should start by checking the specific platform or institution\\'s policy. If it\\'s a university course, they might have a drop/add period. But since I don\\'t know the exact context, I need to provide general advice. Let me recall some common policies. Often, you can join a course after it starts, but you might lose some points or not have full access to past materials.\\n\\nWait, the user might need to contact the instructor or administrator. That\\'s a standard step. Also, online platforms usually have an enrollment option. If the course is free, maybe they can still join, but if it\\'s paid, there might be deadlines. For example, Coursera has a specific enrollment deadline, and once it\\'s past, you can\\'t join unless it\\'s open enrollment.\\n\\nI should also mention to check the enrollment deadlines. Maybe the course has a rolling enrollment. It\\'s possible that even though the course has started, the enrollment is still open. But they need to confirm if starting late will affect their access to assignments and grades.\\n\\nAnother point is whether the course offers credit. If they join late, can they still fulfill all requirements for a grade? Some courses might require participation in group activities that started earlier, which could be a problem.\\n\\nI should structure the answer to first suggest checking the specific rules of the course or platform, then mention contacting the administrator or instructor, and provide examples based on common scenarios like online vs. in-person courses. Also, mention that sometimes you can join but with potential limitations. Make sure to be clear that the policies depend on the course, so the user needs to get this info directly.\\n\\nI need to avoid assuming too much and keep the answer helpful without overstepping. Maybe also note that if they\\'re unsure, reaching out to support for the course is a good idea. Oh, and mention that some platforms allow retroactive access to past materials, so the user might still catch up. That way, they have a few options to explore.\\n</think>\\n\\nYes, whether you can still enroll in a course that has already started depends on the **specific platform, institution, or course policies**. Here’s how to determine your options:  \\n\\n### 1. **Check the Course Platform/Institution’s Rules**  \\n   - **University Courses**: Many schools have a \"drop/add period\" for in-person or online courses, allowing enrollment after the start date with potential restrictions (e.g., deadlines or missed materials).  \\n   - **Online Platforms** (e.g., Coursera, Udemy, edX): Some allow enrollment after a course starts, but you may lose access to full content or certifications if deadlines have passed. Others offer rolling enrollment.  \\n   - **Free vs. Paid Courses**: Free courses often permit enrollment later, while paid courses may have strict start dates.  \\n\\n### 2. **Contact the Instructor or Administrator**  \\n   If you’re unsure, reach out directly to the instructor or platform support team to confirm:  \\n   - **Will you have access to past assignments, lectures, or materials?**  \\n   - **Can you join group work or discussions that started earlier?**  \\n   - **Will it affect your eligibility for a certificate or credit?**  \\n\\n### 3. **Review Specific Policies**  \\n   - **Deadlines**: Some courses close enrollment after a set period.  \\n   - **Pricing/Refunds**: Enrolling late might incur additional fees or disqualify you from refunds.  \\n   - **Rolling Enrollment**: Some programs allow enrollment at any time, with access to older materials retroactively.  \\n\\n### 4. **Explore Alternatives**  \\n   - If the current session is closed, many platforms repeat courses periodically (e.g., \"Course Name - Session 2\").  \\n   - For certifications, check if the course offers self-paced learning (e.g., LinkedIn Learning, Masterclass).  \\n\\n### Summary:  \\n- **Do this first**: Check the course description or contact the administrator.  \\n- **Key questions to ask**: Access to past materials? Group work requirements? Certification eligibility?  \\n\\nIf you tell me the specific platform or course name, I can help tailor the advice further! 😊'"
      ]
     },
     "execution_count": 17,
     "metadata": {},
     "output_type": "execute_result"
    }
   ],
   "source": [
    "response = client.chat.completions.create(\n",
    "    model='qwen/qwen3-32b',\n",
    "    messages=[{\"role\": \"user\", \"content\": q}]\n",
    ")\n",
    "\n",
    "response.choices[0].message.content"
   ]
  },
  {
   "cell_type": "code",
   "execution_count": null,
   "id": "9af98a6c-30a5-4fb3-a73f-8effba49786c",
   "metadata": {},
   "outputs": [],
   "source": [
    "def search(query):\n",
    "    boost = {'question': 3.0, 'section': 0.5}\n",
    "\n",
    "    results = index.search(query=query,\n",
    "             filter_dict={\"course\": \"data-engineering-zoomcamp\"},\n",
    "             num_results=3,\n",
    "             boost_dict=boost)\n",
    "\n",
    "    return results"
   ]
  },
  {
   "cell_type": "code",
   "execution_count": null,
   "id": "e32f8c16-1474-4f7f-bb82-d98bd524b07a",
   "metadata": {},
   "outputs": [],
   "source": [
    "def build_prompt(query, search_results):\n",
    "    prompt_template = \"\"\"\n",
    "    You're a course teaching assistant. Answer the QUESTION based on the CONTEXT from the FAQ database.\n",
    "    Use only the facts from the CONTEXT when answering the QUESTION.\n",
    "    \n",
    "    QUESTION: {question}\n",
    "    \n",
    "    CONTEXT: \n",
    "    {context}\n",
    "    \"\"\".strip()\n",
    "\n",
    "    context = \"\"\n",
    "\n",
    "    for doc in search_results:\n",
    "        context = context + f\"section: {doc['section']}\\nquestion: {doc['question']}\\nanswer: {doc['text']}\\n\\n\"\n",
    "    prompt = prompt_template.format(question=query, context=context).strip()\n",
    "    \n",
    "    return prompt"
   ]
  },
  {
   "cell_type": "code",
   "execution_count": null,
   "id": "aff14491-fc7e-49b9-9cf6-90d5fad9b547",
   "metadata": {},
   "outputs": [],
   "source": [
    "def llm(prompt):\n",
    "    response = client.chat.completions.create(\n",
    "        model='qwen/qwen3-32b',\n",
    "        messages=[{\"role\": \"user\", \"content\": prompt}]\n",
    "    )\n",
    "\n",
    "    return response.choices[0].message.content"
   ]
  },
  {
   "cell_type": "code",
   "execution_count": null,
   "id": "0e3fa750-0ff5-4181-a538-146df599f975",
   "metadata": {},
   "outputs": [],
   "source": [
    "query = 'how to run kafka?'\n",
    "\n",
    "def rag(query):\n",
    "    search_results = search(query)\n",
    "    prompt = build_prompt(query, search_results)\n",
    "    answer = llm(prompt)\n",
    "    return answer"
   ]
  },
  {
   "cell_type": "code",
   "execution_count": null,
   "id": "6993f327-4523-48ac-bf77-ccbbfae15929",
   "metadata": {},
   "outputs": [
    {
     "data": {
      "text/plain": [
       "'<think>\\nOkay, let\\'s tackle the question: \"How to run Kafka?\" based on the provided context. First, I need to parse through the given CONTEXT sections to extract relevant information.\\n\\nLooking at the first section under Module 6, there\\'s a mention of creating a virtual environment and installing requirements. The user had an issue with the \"Module ‘kafka’ not found\" when running producer.py. The solution involves setting up a virtual environment, activating it, installing dependencies from requirements.txt, and then running the Python files. It also notes that Docker images should be running first.\\n\\nThe second part under Module 6 talks about Java Kafka, giving a command to run Java classes like JsonProducer.java using a JAR file. The command includes the classpath and the specific Java file. \\n\\nIn the Project section, there\\'s an answer about fixing a ModuleNotFoundError related to \\'kafka.vendor.six.moves\\', suggesting using kafka-python-ng instead of the standard kafka-python package due to issues with releases.\\n\\nNow, the user\\'s question is general: \"how to run kafka?\" I need to structure the answer based on these contexts. The answer should probably split into Python and Java methods. \\n\\nFor Python, the steps would be creating a virtual environment, installing dependencies, activating the environment, and then running the producer or consumer scripts. Also, the note about using kafka-python-ng might be important if they encounter specific errors.\\n\\nFor Java, the answer involves compiling the project (though the context mentions the JAR build/libs/<jar_name>-1.0-SNAPSHOT.jar, perhaps implying that running it via the JAR with the correct classpath is necessary).\\n\\nAdditionally, the context mentions Docker images needing to be up and running first, so that\\'s a prerequisite step. So the answer should start with ensuring Docker is running, then proceed with Python or Java steps.\\n\\nI need to present these steps clearly, making sure to mention both Python and Java methods. Also, note the virtual environment setup for Python, activating it, the specific pip install for kafka-python-ng if necessary. For Java, the example command is provided but needs to be adapted with the correct JAR name and class names.\\n\\nThe user might not be clear on whether they need to use Python or Java, but the context provides solutions for both, so the answer should cover both possibilities. Also, mention the OS differences (Windows vs others) for activating the virtual environment.\\n\\nFinally, check if there are any missing steps. The context doesn\\'t mention starting Zookeeper or Kafka servers, but the Docker note implies that Docker is used for that. So maybe mention that Docker should be running, but assuming that\\'s set up already.\\n</think>\\n\\nTo run Kafka producers/consumers, follow these steps based on your setup:\\n\\n### **1. Python Setup (for Kafka producer/consumer scripts like `producer.py`)**  \\nEnsure you are in the correct environment and project directory:  \\n```bash\\n# 1. Create and activate a virtual environment (only once)\\npython -m venv env\\nsource env/bin/activate  # On Windows: env\\\\Scripts\\\\activate\\n\\n# 2. Install dependencies\\npip install -r requirements.txt\\n\\n# 3. Address potential issues\\n# If you get errors like \"No module named \\'kafka.vendor.six.moves\\'\", use:\\npip uninstall kafka-python   # If installed\\npip install kafka-python-ng\\n```\\n\\n**Run Python scripts** (e.g., `producer.py`, `consumer.py`) after activation:  \\n```bash\\npython producer.py\\n```\\n\\n---\\n\\n### **2. Java Setup (for Kafka Java applications)**  \\nNavigate to your project directory and run:  \\n```bash\\n# Example command (adapt `<jar_name>` and class names accordingly):\\njava -cp build/libs/<jar_name>-1.0-SNAPSHOT.jar:out src/main/java/org/example/JsonProducer.java\\n```\\n\\n---\\n\\n### **3. Prerequisites**  \\n- **Docker**: Ensure Kafka/Zookeeper Docker images are running (as required by your project).  \\n- **Virtual Environment**: Always use the virtual environment for Python scripts.  \\n- **Platform Notes**: On Windows, paths like `env\\\\Scripts\\\\activate` may apply.  \\n\\nFor further troubleshooting, see the FAQ for errors like `ModuleNotFoundError`.'"
      ]
     },
     "execution_count": 23,
     "metadata": {},
     "output_type": "execute_result"
    }
   ],
   "source": [
    "rag(query)"
   ]
  },
  {
   "cell_type": "markdown",
   "id": "7b352158-0d62-4357-9eb1-4d92f3462ee8",
   "metadata": {},
   "source": [
    "# elastic search"
   ]
  },
  {
   "cell_type": "code",
   "execution_count": null,
   "id": "35a540e6-95b3-4f27-a8de-231f9ef36056",
   "metadata": {},
   "outputs": [],
   "source": [
    "from elasticsearch import Elasticsearch"
   ]
  },
  {
   "cell_type": "code",
   "execution_count": null,
   "id": "46a3a77b-5f44-4b95-b3a8-4b86684c19bb",
   "metadata": {},
   "outputs": [],
   "source": [
    "es_client = Elasticsearch('http://localhost:9200')"
   ]
  },
  {
   "cell_type": "code",
   "execution_count": null,
   "id": "d22d020f-5dee-4cc5-a3e8-b0c6eb56d60f",
   "metadata": {},
   "outputs": [],
   "source": [
    "#es_client.info()"
   ]
  },
  {
   "cell_type": "code",
   "execution_count": null,
   "id": "fcc6d163-cc4b-497c-b078-d8bd48499d12",
   "metadata": {},
   "outputs": [
    {
     "data": {
      "text/plain": [
       "ObjectApiResponse({'acknowledged': True, 'shards_acknowledged': True, 'index': 'course-questions'})"
      ]
     },
     "execution_count": 29,
     "metadata": {},
     "output_type": "execute_result"
    }
   ],
   "source": [
    "#creating an Index\n",
    "index_settings = {\n",
    "    \"settings\": {\n",
    "        \"number_of_shards\": 1,\n",
    "        \"number_of_replicas\": 0\n",
    "    },\n",
    "    \"mappings\": {\n",
    "        \"properties\": {\n",
    "            \"text\": {\"type\": \"text\"},\n",
    "            \"section\": {\"type\": \"text\"},\n",
    "            \"question\": {\"type\": \"text\"},\n",
    "            \"course\": {\"type\": \"keyword\"} \n",
    "        }\n",
    "    }\n",
    "}\n",
    "\n",
    "index_name = \"course-questions\"\n",
    "\n",
    "es_client.indices.create(index = index_name, body = index_settings)"
   ]
  },
  {
   "cell_type": "code",
   "execution_count": null,
   "id": "1275b208-2a9b-4b18-8ab1-db46931d97a7",
   "metadata": {},
   "outputs": [],
   "source": [
    "from tqdm.auto import tqdm"
   ]
  },
  {
   "cell_type": "code",
   "execution_count": null,
   "id": "af4c8e9a-a682-4805-adf5-0b5f66a7fc42",
   "metadata": {},
   "outputs": [
    {
     "data": {
      "application/vnd.jupyter.widget-view+json": {
       "model_id": "6352d3a87c1d4e7896c4901db7003c07",
       "version_major": 2,
       "version_minor": 0
      },
      "text/plain": [
       "  0%|          | 0/948 [00:00<?, ?it/s]"
      ]
     },
     "metadata": {},
     "output_type": "display_data"
    }
   ],
   "source": [
    "for doc in tqdm(documents):\n",
    "    es_client.index(index = index_name, document = doc)"
   ]
  },
  {
   "cell_type": "code",
   "execution_count": null,
   "id": "fd9d7041-f35e-4c8f-8a2c-425ca050d86b",
   "metadata": {},
   "outputs": [],
   "source": [
    "query = \"I just discovered the course. Can I still join it?\""
   ]
  },
  {
   "cell_type": "code",
   "execution_count": null,
   "id": "82e43a2a-5ecb-4c50-a7c1-bdce47561b9c",
   "metadata": {},
   "outputs": [],
   "source": [
    "def elastic_search(query):\n",
    "\n",
    "    search_query = {\n",
    "        \"size\": 5, # result gives 5 answers\n",
    "        \"query\": {\n",
    "            \"bool\": {\n",
    "                \"must\": {\n",
    "                    \"multi_match\": {\n",
    "                        \"query\": query,\n",
    "                        \"fields\": [\"question^3\", \"text\", \"section\"], #^3 means the importance is the power of 3  (gives a boost)\n",
    "                        \"type\": \"best_fields\"\n",
    "                    }\n",
    "                },\n",
    "                \"filter\": {\n",
    "                    \"term\": {\n",
    "                        \"course\": \"data-engineering-zoomcamp\"\n",
    "                    }\n",
    "                }\n",
    "            }\n",
    "        }\n",
    "    }\n",
    "    \n",
    "    response = es_client.search(index=index_name, body=search_query)\n",
    "    result_docs = []\n",
    "    \n",
    "    for hit in response['hits']['hits']:\n",
    "        result_docs.append(hit['_source'])\n",
    "    \n",
    "    return result_docs"
   ]
  },
  {
   "cell_type": "code",
   "execution_count": null,
   "id": "c4c14c7d-bba7-4917-bd49-61bd9c671849",
   "metadata": {},
   "outputs": [],
   "source": [
    "def rag(query):\n",
    "    search_results = elastic_search(query)\n",
    "    prompt = build_prompt(query, search_results)\n",
    "    answer = llm(prompt)\n",
    "    return answer"
   ]
  },
  {
   "cell_type": "code",
   "execution_count": null,
   "id": "c2e323cd-8e7d-4f73-9d1a-f102cacd20bd",
   "metadata": {},
   "outputs": [
    {
     "data": {
      "text/plain": [
       "\"<think>\\nOkay, the user is asking if they can join the course now that they've just discovered it. Let me look at the context provided.\\n\\nFirst, there's a section about joining after the start date. The answer says yes, you can still join and submit homework even if you didn't register. But there's a note about final project deadlines, so they shouldn't procrastinate.\\n\\nAnother section mentions that materials are kept after the course ends, so you can follow along at your own pace. Also, you can keep working on homework and prepare for the next cohort or start the capstone project.\\n\\nRegistration isn't required for submission, and confirmation emails aren't sent. The registration is just for interest tracking. So even if they missed the start date, they can still join and participate.\\n\\nPutting it all together: Yes, they can join now. Registration isn't mandatory, but they can still access materials and submit homework. They should be mindful of deadlines for projects. Also, the support via Slack is available even in self-paced mode.\\n</think>\\n\\nYes, you can still join the course even if you missed the start date. You are eligible to submit homework and access course materials at your own pace. While registration is not required to participate, note that final project deadlines will still apply. You can also follow the course after it finishes, as all materials and homework will remain available. Start by installing the necessary tools (Google Cloud account, Python 3, Terraform, Git, etc.) and reviewing the syllabus. If you need help, use the Slack channel and the FAQ database.\""
      ]
     },
     "execution_count": 46,
     "metadata": {},
     "output_type": "execute_result"
    }
   ],
   "source": [
    "rag(query)"
   ]
  },
  {
   "cell_type": "code",
   "execution_count": null,
   "id": "bac9b27a-5daa-456d-8de4-09cea0bcd18f",
   "metadata": {},
   "outputs": [],
   "source": []
  }
 ],
 "metadata": {
  "kernelspec": {
   "display_name": "Python 3 (ipykernel)",
   "language": "python",
   "name": "python3"
  },
  "language_info": {
   "codemirror_mode": {
    "name": "ipython",
    "version": 3
   },
   "file_extension": ".py",
   "mimetype": "text/x-python",
   "name": "python",
   "nbconvert_exporter": "python",
   "pygments_lexer": "ipython3",
   "version": "3.12.1"
  }
 },
 "nbformat": 4,
 "nbformat_minor": 5
}
