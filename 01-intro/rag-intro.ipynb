{
 "cells": [
  {
   "cell_type": "code",
   "execution_count": 59,
   "id": "82a6adca",
   "metadata": {},
   "outputs": [],
   "source": [
    "#!pip install minsearch"
   ]
  },
  {
   "cell_type": "code",
   "execution_count": 3,
   "id": "e0a213c2",
   "metadata": {},
   "outputs": [],
   "source": [
    "import json"
   ]
  },
  {
   "cell_type": "code",
   "execution_count": 6,
   "id": "de713f55",
   "metadata": {},
   "outputs": [],
   "source": [
    "import minsearch"
   ]
  },
  {
   "cell_type": "code",
   "execution_count": 7,
   "id": "15a7ec45",
   "metadata": {},
   "outputs": [],
   "source": [
    "with open('documents.json', 'rt') as f_in:\n",
    "    docs_raw = json.load(f_in)"
   ]
  },
  {
   "cell_type": "code",
   "execution_count": 8,
   "id": "2c0e09e2",
   "metadata": {},
   "outputs": [],
   "source": [
    "documents = []\n",
    "\n",
    "for course_dict in docs_raw:\n",
    "    for doc in course_dict['documents']:\n",
    "        doc['course'] = course_dict['course']\n",
    "        documents.append(doc)"
   ]
  },
  {
   "cell_type": "code",
   "execution_count": 9,
   "id": "082aef18",
   "metadata": {},
   "outputs": [
    {
     "data": {
      "text/plain": [
       "{'text': \"The purpose of this document is to capture frequently asked technical questions\\nThe exact day and hour of the course will be 15th Jan 2024 at 17h00. The course will start with the first  “Office Hours'' live.1\\nSubscribe to course public Google Calendar (it works from Desktop only).\\nRegister before the course starts using this link.\\nJoin the course Telegram channel with announcements.\\nDon’t forget to register in DataTalks.Club's Slack and join the channel.\",\n",
       " 'section': 'General course-related questions',\n",
       " 'question': 'Course - When will the course start?',\n",
       " 'course': 'data-engineering-zoomcamp'}"
      ]
     },
     "execution_count": 9,
     "metadata": {},
     "output_type": "execute_result"
    }
   ],
   "source": [
    "documents[0]"
   ]
  },
  {
   "cell_type": "code",
   "execution_count": 10,
   "id": "4569c982",
   "metadata": {},
   "outputs": [],
   "source": [
    "index = minsearch.Index(\n",
    "    text_fields=[\"question\", \"text\", \"section\"],\n",
    "    keyword_fields=[\"course\"]\n",
    ")"
   ]
  },
  {
   "cell_type": "code",
   "execution_count": 11,
   "id": "1f267546",
   "metadata": {},
   "outputs": [],
   "source": [
    "q = 'the course has already started, can I still enroll?'"
   ]
  },
  {
   "cell_type": "code",
   "execution_count": 12,
   "id": "1361827e",
   "metadata": {},
   "outputs": [
    {
     "data": {
      "text/plain": [
       "<minsearch.minsearch.Index at 0x189d982f650>"
      ]
     },
     "execution_count": 12,
     "metadata": {},
     "output_type": "execute_result"
    }
   ],
   "source": [
    "index.fit(documents)"
   ]
  },
  {
   "cell_type": "code",
   "execution_count": 13,
   "id": "2586d768",
   "metadata": {},
   "outputs": [],
   "source": []
  },
  {
   "cell_type": "code",
   "execution_count": 10,
   "id": "d9a978ae",
   "metadata": {},
   "outputs": [],
   "source": [
    "#from openai import OpenAI"
   ]
  },
  {
   "cell_type": "code",
   "execution_count": 11,
   "id": "d7c20e17",
   "metadata": {},
   "outputs": [],
   "source": [
    "#client = OpenAI()"
   ]
  },
  {
   "cell_type": "code",
   "execution_count": 1,
   "id": "aca176f3-08fb-4e2e-acb1-20056be4d477",
   "metadata": {},
   "outputs": [],
   "source": [
    "from groq import Groq"
   ]
  },
  {
   "cell_type": "code",
   "execution_count": 2,
   "id": "39b53c19-37c1-4ccc-a7e2-7e1b52f01d44",
   "metadata": {},
   "outputs": [],
   "source": [
    "client = Groq() "
   ]
  },
  {
   "cell_type": "code",
   "execution_count": 17,
   "id": "c86058b4",
   "metadata": {},
   "outputs": [
    {
     "data": {
      "text/plain": [
       "'<think>\\nOkay, the user is asking, \"the course has already started, can I still enroll?\" Let me break this down.\\n\\nFirst, I need to consider the different types of courses and the policies they might have. For example, online platforms like Coursera, Udemy, or LinkedIn Learning often have flexible enrollment periods. They might allow students to join at any time, with access to all materials from the start date. But then there are in-person classes, which might have strict deadlines and require attending physical sessions. If the course is in-person and has already started, enrollment might be restricted unless there are remaining seats.\\n\\nThen there\\'s the institutional aspect. Universities and traditional schools usually have enrollment periods. If it\\'s a semester-based course, the deadline could have passed, and enrollment might be closed. However, some schools might let you add the course during the add-drop period. The user would need to check with the registrar or academic advisor.\\n\\nAnother consideration is course structure. Some courses are self-paced and can be started anytime, but others have synchronous elements like live sessions. If the course includes weekly assignments or group projects, joining late might be challenging. The instructor could allow late enrollment but might adjust deadlines or participation requirements.\\n\\nI should also mention the importance of contacting the instructor or platform support. They can provide specific details about enrollment policies. Additionally, financial implications like refunds or fees for late registration should be considered, especially if there\\'s a fee involved.\\n\\nI need to make sure the response covers all these possibilities without assuming the exact type of course. The user might not know the specific details of the course they\\'re interested in, so covering each possible scenario will help them take the right steps.\\n</think>\\n\\nWhether you can enroll in a course after it has started depends on the specific course and its enrollment policies. Here’s a general breakdown of what to consider:\\n\\n1. **Online vs. In-Person Courses**:\\n   - **Online Courses**: Many online platforms (e.g., Coursera, Udemy, LinkedIn Learning) allow enrollment at any time, even after a course has started. You’ll usually gain access to all past and future materials.\\n   - **In-Person Courses**: These often have stricter deadlines and require physical attendance. Check with the institution for any post-start enrollment options (e.g., waitlists, late registration).\\n\\n2. **Institutional Policies**:\\n   - **Academic Terms**: If it’s a traditional semester or quarter-based course, there may be a \"drop/add\" period during which you can join, but this varies by school/school policies. Deadlines vary from a few days to a week after the start.\\n   - **University/College Registrar**: For formal academic courses, confirm with your institution’s registrar or department for enrollment rules.\\n\\n3. **Course Structure**:\\n   - **Self-Paced**: If the course is self-paced (no live sessions or weekly deadlines), you can often start later.\\n   - **Synchronous Elements**: If the course includes live lectures, group work, or timed assignments, the instructor might accept late enrollment but could adjust expectations.\\n\\n4. **Instructor Approval**:\\n   - For some courses, especially in educational institutions, the instructor may grant permission for late enrollment on a case-by-case basis.\\n\\n5. **Platform Support**:\\n   - If you’re enrolling through a specific platform (e.g., edX, Skillshare), contact their customer support for details.\\n\\n6. **Financial/Refund Considerations**:\\n   - Some courses offer refunds if you join after the start date; others do not. Check the enrollment terms upfront.\\n\\n### What You Can Do:\\n   - **Contact the Course Provider**: Reach out to the instructor, platform, or administrative team directly for confirmation.\\n   - **Check the Syllabus/Website**: Look for enrollment deadlines or late-joining policies.\\n   - **Ask About Prerequisites**: Joining late may require catching up on past materials or adjusting deadlines.\\n\\nIf you share the specific course or platform, I can help tailor the advice further!'"
      ]
     },
     "execution_count": 17,
     "metadata": {},
     "output_type": "execute_result"
    }
   ],
   "source": [
    "response = client.chat.completions.create(\n",
    "    model='qwen/qwen3-32b',\n",
    "    messages=[{\"role\": \"user\", \"content\": q}]\n",
    ")\n",
    "\n",
    "response.choices[0].message.content"
   ]
  },
  {
   "cell_type": "code",
   "execution_count": 33,
   "id": "a90f013a-ac6f-4cea-8081-a430b4584728",
   "metadata": {},
   "outputs": [
    {
     "data": {
      "text/plain": [
       "\"<think>\\nOkay, let me tackle this. The user is asking if they can enroll after the course has started. Looking at the CONTEXT, there's a section that answers exactly that. The first part says yes, you can still join after the start date, and you can submit homeworks even if you didn't register. But there's a note about deadlines for the final projects. The user might be worried about missing something by enrolling late.\\n\\nI need to make sure I use only the info from the CONTEXT. The answer should confirm that enrollment is possible post start date, mention submitting homeworks, and caution about the final project deadlines. Also, maybe mention the calendar and Slack/Telegram channels for staying updated. Let me check if those are in the CONTEXT. Yes, the answer mentions the Google Calendar, Telegram, and Slack. But the user's question is specifically about enrolling after the start. So the key points are eligibility to submit homeworks and the deadlines. The other sections talk about following the course after it finishes, which isn't needed here. So I should exclude that. Let me put it all together clearly.\\n</think>\\n\\nYes, you can still join the course after the start date. Even if you didn't register initially, you remain eligible to submit homeworks. However, note that there are deadlines for the final projects, so plan accordingly. Additionally, while late enrollment isn’t a problem for coursework, ensure you register to access platforms like the course calendar, Telegram channel, and DataTalks.Club Slack for updates and announcements.\""
      ]
     },
     "execution_count": 33,
     "metadata": {},
     "output_type": "execute_result"
    }
   ],
   "source": [
    "response = client.chat.completions.create(\n",
    "    model='qwen/qwen3-32b',\n",
    "    messages=[{\"role\": \"user\", \"content\": prompt}]\n",
    ")\n",
    "\n",
    "response.choices[0].message.content"
   ]
  },
  {
   "cell_type": "code",
   "execution_count": 37,
   "id": "9af98a6c-30a5-4fb3-a73f-8effba49786c",
   "metadata": {},
   "outputs": [],
   "source": [
    "def search(query):\n",
    "    boost = {'question': 3.0, 'section': 0.5}\n",
    "\n",
    "    results = index.search(query=query,\n",
    "             filter_dict={\"course\": \"data-engineering-zoomcamp\"},\n",
    "             num_results=3,\n",
    "             boost_dict=boost)\n",
    "\n",
    "    return results"
   ]
  },
  {
   "cell_type": "code",
   "execution_count": 54,
   "id": "e32f8c16-1474-4f7f-bb82-d98bd524b07a",
   "metadata": {},
   "outputs": [],
   "source": [
    "def build_prompt(query, search_results):\n",
    "    prompt_template = \"\"\"\n",
    "    You're a course teaching assistant. Answer the QUESTION based on the CONTEXT from the FAQ database.\n",
    "    Use only the facts from the CONTEXT when answering the QUESTION.\n",
    "    \n",
    "    QUESTION: {question}\n",
    "    \n",
    "    CONTEXT: \n",
    "    {context}\n",
    "    \"\"\".strip()\n",
    "\n",
    "    context = \"\"\n",
    "\n",
    "    for doc in search_results:\n",
    "        context = context + f\"section: {doc['section']}\\nquestion: {doc['question']}\\nanswer: {doc['text']}\\n\\n\"\n",
    "    prompt = prompt_template.format(question=query, context=context).strip()\n",
    "    \n",
    "    return prompt"
   ]
  },
  {
   "cell_type": "code",
   "execution_count": 49,
   "id": "aff14491-fc7e-49b9-9cf6-90d5fad9b547",
   "metadata": {},
   "outputs": [],
   "source": [
    "def llm(prompt):\n",
    "    response = client.chat.completions.create(\n",
    "        model='qwen/qwen3-32b',\n",
    "        messages=[{\"role\": \"user\", \"content\": prompt}]\n",
    "    )\n",
    "\n",
    "    return response.choices[0].message.content"
   ]
  },
  {
   "cell_type": "code",
   "execution_count": 57,
   "id": "0e3fa750-0ff5-4181-a538-146df599f975",
   "metadata": {},
   "outputs": [],
   "source": [
    "query = 'how to run kafka?'\n",
    "\n",
    "def rag(query):\n",
    "    search_results = search(query)\n",
    "    prompt = build_prompt(query, search_results)\n",
    "    answer = llm(prompt)\n",
    "    return answer"
   ]
  },
  {
   "cell_type": "code",
   "execution_count": 58,
   "id": "6993f327-4523-48ac-bf77-ccbbfae15929",
   "metadata": {},
   "outputs": [
    {
     "data": {
      "text/plain": [
       "'<think>\\nOkay, the user is asking \"how to run kafka\". Let me check the provided CONTEXT for relevant information. \\n\\nFirst, in Module 6, there\\'s a section about creating a virtual environment. The steps include creating a virtual env with python -m venv env, activating it, and installing requirements from requirements.txt. That seems important for setting up the Python environment needed to run Kafka-related scripts.\\n\\nAnother part in Module 6 mentions running Java Kafka components like producer or consumer. The command given is java -cp with specific jar files. However, the user didn\\'t specify Java or Python, but since the question is general, maybe both are applicable.\\n\\nThere\\'s also a note about using kafka-python-ng instead of the standard kafka-python library due to issues. So, installing via pip install kafka-python-ng is suggested. \\n\\nThe user might be referring to running Kafka producers or consumers. The answer should cover both Python and Java methods if possible. But since the user\\'s question is broad, maybe start with the Python setup first, as the Java part is more specific. Also, check if the user needs Docker setup mentioned in the CONTEXT, which says Docker images should be up first. \\n\\nPutting this together, the answer should guide creating a virtual environment, installing dependencies, and mention the Java command for completeness. Also, include the note about using kafka-python-ng to avoid errors. Need to structure this step-by-step clearly.\\n</think>\\n\\nTo run Kafka applications, follow these steps based on the provided context:\\n\\n### 1. **Set up a Python virtual environment** (for Python scripts):  \\n   - **Create and activate**:  \\n     ```bash\\n     python -m venv env\\n     source env/bin/activate  # On Windows: env\\\\Scripts\\\\activate\\n     ```\\n   - **Install dependencies**:  \\n     ```bash\\n     pip install -r ../requirements.txt\\n     ```\\n\\n   - **Note**: Use `pip install kafka-python-ng` instead of `kafka-python` to avoid errors related to the `kafka.vendor.six.moves` module.\\n\\n---\\n\\n### 2. **Run Python Kafka scripts** (e.g., `producer.py`, `consumer.py`):  \\n   Ensure the virtual environment is activated, then execute the script:  \\n   ```bash\\n   python producer.py  # Replace with your script name\\n   ```\\n\\n---\\n\\n### 3. **Run Java Kafka applications** (if using Java):  \\n   Compile and run using the built JAR file:  \\n   ```bash\\n   java -cp build/libs/<jar_name>-1.0-SNAPSHOT.jar:out src/main/java/<Full.Class.Path>\\n   ```\\n   Replace `<jar_name>` and `<Full.Class.Path>` with your project-specific values.\\n\\n---\\n\\n### 4. **Docker prerequisites**:  \\n   Ensure Docker is running and Kafka-related images (e.g., ZooKeeper, Kafka brokers) are started before executing Python/Java scripts.\\n\\nDeactivate the virtual environment after use with `deactivate`. Use Windows-style paths (`env\\\\Scripts\\\\`) if working on Windows.'"
      ]
     },
     "execution_count": 58,
     "metadata": {},
     "output_type": "execute_result"
    }
   ],
   "source": [
    "rag(query)"
   ]
  },
  {
   "cell_type": "code",
   "execution_count": null,
   "id": "35a540e6-95b3-4f27-a8de-231f9ef36056",
   "metadata": {},
   "outputs": [],
   "source": []
  }
 ],
 "metadata": {
  "kernelspec": {
   "display_name": "Python 3 (ipykernel)",
   "language": "python",
   "name": "python3"
  },
  "language_info": {
   "codemirror_mode": {
    "name": "ipython",
    "version": 3
   },
   "file_extension": ".py",
   "mimetype": "text/x-python",
   "name": "python",
   "nbconvert_exporter": "python",
   "pygments_lexer": "ipython3",
   "version": "3.11.9"
  }
 },
 "nbformat": 4,
 "nbformat_minor": 5
}
